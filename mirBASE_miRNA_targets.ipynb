{
 "cells": [
  {
   "cell_type": "code",
   "execution_count": 1,
   "id": "b0994331-bd12-4722-b2f2-bf58532039f8",
   "metadata": {},
   "outputs": [],
   "source": [
    "import pandas as pd\n",
    "from collections import defaultdict\n",
    "import os\n",
    "from tqdm import tqdm"
   ]
  },
  {
   "cell_type": "code",
   "execution_count": 2,
   "id": "74020425-1705-4dff-b20c-4354c409b40a",
   "metadata": {},
   "outputs": [],
   "source": [
    "# ID = \"hsa-let-7a-1\"\n",
    "\n",
    "\n",
    "def Fetch_miRNA_Target(ID):\n",
    "\n",
    "    URL = f\"https://mirbase.org/cgi-bin/mirna_entry.pl?acc={ID}\"\n",
    "    ##################3\n",
    "\n",
    "    dfs = pd.read_html(URL)\n",
    "    \n",
    "    # print(dfs)\n",
    "\n",
    "    #########################\n",
    "\n",
    "\n",
    "    # ID = {'ID':''}\n",
    "    Mat = defaultdict(dict)\n",
    "\n",
    "    Mat_temp = ''\n",
    "\n",
    "    for i in range(len(dfs)):\n",
    "        # print(\">\", i)\n",
    "\n",
    "        M3 = ''\n",
    "        M5 = ''\n",
    "\n",
    "        df = dfs[i]\n",
    "        Data = df.values.tolist()\n",
    "        for J in range(len(Data)):\n",
    "            j = Data[J]\n",
    "\n",
    "            if len(j)==2:\n",
    "                if \"Stem-loop sequence\" in j[0] and \"Stem-loop sequence\" in j[1]:\n",
    "                    Mat['ID'] = j[0].replace('Stem-loop sequence ', '')\n",
    "                if \"Mature sequence\" in j[0] and \"Mature sequence\" in j[1]:\n",
    "                    Mat_temp = j[0].replace('Mature sequence ', '')\n",
    "                    # print(Mat_temp)\n",
    "                    Acc = Data[J+1][1]\n",
    "                    # print(Acc)\n",
    "                    Mat[Mat_temp] = Acc\n",
    "\n",
    "                    if Mat_temp.endswith('5p'):\n",
    "                        Mat['5p'] = Acc\n",
    "                    if Mat_temp.endswith('3p'):\n",
    "                        Mat['3p'] = Acc\n",
    "    ########################\n",
    "\n",
    "    df = pd.DataFrame.from_dict(Mat, orient='index')\n",
    "\n",
    "    URL_5 = f\"https://mirdb.org/cgi-bin/search.cgi?searchType=miRNA&full=mirbase&searchBox={Mat['5p']}\"\n",
    "    URL_3 = f\"https://mirdb.org/cgi-bin/search.cgi?searchType=miRNA&full=mirbase&searchBox={Mat['3p']}\"\n",
    "    \n",
    "    df_5 = pd.read_html(URL_5)[0]\n",
    "    df_3 = pd.read_html(URL_3)[0]\n",
    "    \n",
    "    df_3.columns = df_3.iloc[0]\n",
    "    df_3 = df_3[1:]\n",
    "    df_3\n",
    "\n",
    "    df_5.columns = df_5.iloc[0]\n",
    "    df_5 = df_5[1:]\n",
    "    df_5\n",
    "    \n",
    "    # df_5 = df_5.columns = df.iloc[0]\n",
    "    # df_3 = df_3.columns = df.iloc[0]\n",
    "    \n",
    "    return df, df_3, df_5, Mat\n",
    "\n",
    "# _ = Fetch_miRNA_Target(ID)"
   ]
  },
  {
   "cell_type": "code",
   "execution_count": 3,
   "id": "40eb2acc-ed4a-460e-913d-2972ff6e03b1",
   "metadata": {},
   "outputs": [],
   "source": [
    "# Mat"
   ]
  },
  {
   "cell_type": "code",
   "execution_count": 5,
   "id": "1c4d8a25-e5dd-4880-bac3-18aaca3b94cf",
   "metadata": {},
   "outputs": [],
   "source": [
    "# df, df_3, df_5, Mat = Fetch_miRNA_Target(ID)"
   ]
  },
  {
   "cell_type": "code",
   "execution_count": 6,
   "id": "74f280aa-ed1b-455c-878c-57fa9681f4d1",
   "metadata": {},
   "outputs": [],
   "source": [
    "\n",
    "directory = \"miTargets/\"\n",
    "if not os.path.exists(directory):\n",
    "    os.makedirs(directory)\n"
   ]
  },
  {
   "cell_type": "code",
   "execution_count": 7,
   "id": "c4281997-7e4d-4044-9085-c83a5953d0ed",
   "metadata": {},
   "outputs": [],
   "source": [
    "def main(ID):\n",
    "    print(ID)\n",
    "    try:\n",
    "        df, df_3, df_5, Mat = Fetch_miRNA_Target(ID)\n",
    "        if len(df):\n",
    "            Info_F = f\"{directory}{Mat['ID']}_info.csv\"\n",
    "            df.to_csv(Info_F, index=False)\n",
    "\n",
    "            p3_F = f\"{directory}{Mat['ID']}_{Mat['3p']}_targets.tsv\"\n",
    "            df_3.to_csv(p3_F, index=False, sep=\"\\t\")\n",
    "\n",
    "\n",
    "            p5_F = f\"{directory}{Mat['ID']}_{Mat['5p']}_targets.tsv\"\n",
    "            df_5.to_csv(p5_F, index=False, sep=\"\\t\")\n",
    "        else:\n",
    "            print(f\"{ID} Error\")\n",
    "    except:\n",
    "        print(f\"Error {ID}\")"
   ]
  },
  {
   "cell_type": "code",
   "execution_count": 8,
   "id": "81b63f35-3184-4650-9d5d-fb262e9dd85c",
   "metadata": {},
   "outputs": [
    {
     "data": {
      "text/plain": [
       "['hsa-let-7a-1', 'hsa-let-7a-2', 'hsa-let-7b', 'hsa-let-7a-3']"
      ]
     },
     "execution_count": 8,
     "metadata": {},
     "output_type": "execute_result"
    }
   ],
   "source": [
    "IDs = list(set(open('Input_list.txt').read().splitlines()))\n",
    "IDs"
   ]
  },
  {
   "cell_type": "code",
   "execution_count": 9,
   "id": "b9bfbe47-f198-4967-952e-857e0179450a",
   "metadata": {},
   "outputs": [
    {
     "name": "stderr",
     "output_type": "stream",
     "text": [
      "  0%|                                                     | 0/4 [00:00<?, ?it/s]"
     ]
    },
    {
     "name": "stdout",
     "output_type": "stream",
     "text": [
      "hsa-let-7a-1\n"
     ]
    },
    {
     "name": "stderr",
     "output_type": "stream",
     "text": [
      " 25%|███████████▎                                 | 1/4 [00:02<00:07,  2.66s/it]"
     ]
    },
    {
     "name": "stdout",
     "output_type": "stream",
     "text": [
      "hsa-let-7a-2\n"
     ]
    },
    {
     "name": "stderr",
     "output_type": "stream",
     "text": [
      " 50%|██████████████████████▌                      | 2/4 [00:04<00:04,  2.32s/it]"
     ]
    },
    {
     "name": "stdout",
     "output_type": "stream",
     "text": [
      "hsa-let-7b\n"
     ]
    },
    {
     "name": "stderr",
     "output_type": "stream",
     "text": [
      " 75%|█████████████████████████████████▊           | 3/4 [00:06<00:02,  2.28s/it]"
     ]
    },
    {
     "name": "stdout",
     "output_type": "stream",
     "text": [
      "hsa-let-7a-3\n"
     ]
    },
    {
     "name": "stderr",
     "output_type": "stream",
     "text": [
      "100%|█████████████████████████████████████████████| 4/4 [00:09<00:00,  2.31s/it]\n"
     ]
    }
   ],
   "source": [
    "for i in tqdm(range(len(IDs))):\n",
    "    ID = IDs[i]\n",
    "    main(ID)\n",
    "           "
   ]
  },
  {
   "cell_type": "code",
   "execution_count": 10,
   "id": "ee2b2b2e-948d-450b-adff-ce97dc1a9118",
   "metadata": {},
   "outputs": [
    {
     "name": "stdout",
     "output_type": "stream",
     "text": [
      "hsa-let-7a-1_info.csv\t\t       hsa-let-7a-3_info.csv\n",
      "hsa-let-7a-1_MIMAT0000062_targets.tsv  hsa-let-7a-3_MIMAT0000062_targets.tsv\n",
      "hsa-let-7a-1_MIMAT0004481_targets.tsv  hsa-let-7a-3_MIMAT0004481_targets.tsv\n",
      "hsa-let-7a-2_info.csv\t\t       hsa-let-7b_info.csv\n",
      "hsa-let-7a-2_MIMAT0000062_targets.tsv  hsa-let-7b_MIMAT0000063_targets.tsv\n",
      "hsa-let-7a-2_MIMAT0010195_targets.tsv  hsa-let-7b_MIMAT0004482_targets.tsv\n"
     ]
    }
   ],
   "source": [
    "!ls {directory}"
   ]
  },
  {
   "cell_type": "markdown",
   "id": "f97b3d29-e1ee-42ee-8a0d-e052a6daff67",
   "metadata": {},
   "source": [
    "# END"
   ]
  }
 ],
 "metadata": {
  "kernelspec": {
   "display_name": "Python 3 (ipykernel)",
   "language": "python",
   "name": "python3"
  },
  "language_info": {
   "codemirror_mode": {
    "name": "ipython",
    "version": 3
   },
   "file_extension": ".py",
   "mimetype": "text/x-python",
   "name": "python",
   "nbconvert_exporter": "python",
   "pygments_lexer": "ipython3",
   "version": "3.10.9"
  }
 },
 "nbformat": 4,
 "nbformat_minor": 5
}
