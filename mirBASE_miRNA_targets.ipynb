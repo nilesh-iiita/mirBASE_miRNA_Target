{
 "cells": [
  {
   "cell_type": "code",
   "execution_count": 1,
   "id": "b0994331-bd12-4722-b2f2-bf58532039f8",
   "metadata": {},
   "outputs": [],
   "source": [
    "import pandas as pd\n",
    "from collections import defaultdict\n",
    "import os\n",
    "from tqdm import tqdm"
   ]
  },
  {
   "cell_type": "code",
   "execution_count": 2,
   "id": "74f280aa-ed1b-455c-878c-57fa9681f4d1",
   "metadata": {},
   "outputs": [],
   "source": [
    "directory = \"miTargets/\"\n",
    "if not os.path.exists(directory):\n",
    "    os.makedirs(directory)"
   ]
  },
  {
   "cell_type": "code",
   "execution_count": 3,
   "id": "81b63f35-3184-4650-9d5d-fb262e9dd85c",
   "metadata": {},
   "outputs": [
    {
     "data": {
      "text/plain": [
       "['hsa-let-7a-2', 'hsa-let-7b', 'hsa-let-7a-1', 'hsa-let-7a-3', 'hsa-miR-1275']"
      ]
     },
     "execution_count": 3,
     "metadata": {},
     "output_type": "execute_result"
    }
   ],
   "source": [
    "IDs = list(set(open('Input_list.txt').read().splitlines()))\n",
    "IDs.append('hsa-miR-1275')\n",
    "IDs"
   ]
  },
  {
   "cell_type": "code",
   "execution_count": 4,
   "id": "74020425-1705-4dff-b20c-4354c409b40a",
   "metadata": {},
   "outputs": [],
   "source": [
    "# ID = \"hsa-let-7a-1\"\n",
    "\n",
    "\n",
    "def Fetch_miRNA_Target(ID):\n",
    "\n",
    "    URL = f\"https://mirbase.org/cgi-bin/mirna_entry.pl?acc={ID}\"\n",
    "    ##################3\n",
    "\n",
    "    dfs = pd.read_html(URL)\n",
    "    \n",
    "    # print(dfs)\n",
    "\n",
    "    #########################\n",
    "\n",
    "\n",
    "    # ID = {'ID':''}\n",
    "    Mat = defaultdict(dict)\n",
    "\n",
    "    Mat_temp = ''\n",
    "\n",
    "    for i in range(len(dfs)):\n",
    "        # print(\">\", i)\n",
    "\n",
    "        M3 = ''\n",
    "        M5 = ''\n",
    "\n",
    "        df = dfs[i]\n",
    "        Data = df.values.tolist()\n",
    "        for J in range(len(Data)):\n",
    "            j = Data[J]\n",
    "\n",
    "            if len(j)==2:\n",
    "                if \"Stem-loop sequence\" in j[0] and \"Stem-loop sequence\" in j[1]:\n",
    "                    Mat['ID'] = j[0].replace('Stem-loop sequence ', '')\n",
    "                if \"Mature sequence\" in j[0] and \"Mature sequence\" in j[1]:\n",
    "                    Mat_temp = j[0].replace('Mature sequence ', '')\n",
    "                    # print(Mat_temp)\n",
    "                    Acc = Data[J+1][1]\n",
    "                    # print(Acc)\n",
    "                    Mat[Mat_temp] = Acc\n",
    "\n",
    "                    if Mat_temp.endswith('5p'):\n",
    "                        Mat['5p'] = Acc\n",
    "                    if Mat_temp.endswith('3p'):\n",
    "                        Mat['3p'] = Acc\n",
    "    ########################\n",
    "\n",
    "    df = pd.DataFrame.from_dict(Mat, orient='index')\n",
    "    \n",
    "    if '5p' in Mat and '3p' in Mat:\n",
    "\n",
    "        URL_5 = f\"https://mirdb.org/cgi-bin/search.cgi?searchType=miRNA&full=mirbase&searchBox={Mat['5p']}\"\n",
    "        URL_3 = f\"https://mirdb.org/cgi-bin/search.cgi?searchType=miRNA&full=mirbase&searchBox={Mat['3p']}\"\n",
    "\n",
    "\n",
    "        df_5 = pd.read_html(URL_5)[0]\n",
    "        df_3 = pd.read_html(URL_3)[0]\n",
    "\n",
    "        df_3.columns = df_3.iloc[0]\n",
    "        df_3 = df_3[1:]\n",
    "        # df_3\n",
    "\n",
    "        df_5.columns = df_5.iloc[0]\n",
    "        df_5 = df_5[1:]\n",
    "        # df_5\n",
    "\n",
    "        # df_5 = df_5.columns = df.iloc[0]\n",
    "        # df_3 = df_3.columns = df.iloc[0]\n",
    "\n",
    "        return df, df_3, df_5, Mat\n",
    "    elif len(Mat) == 2:\n",
    "        Key = [i for i in Mat if i != 'ID'][0]\n",
    "        MirID = Mat[Key]\n",
    "        URL = f\"https://mirdb.org/cgi-bin/search.cgi?searchType=miRNA&full=mirbase&searchBox={MirID}\"\n",
    "        df_m = pd.read_html(URL)[0]\n",
    "        df_m.columns = df_m.iloc[0]\n",
    "        df_m = df_m[1:]\n",
    "        \n",
    "        return df, df_m, Mat\n",
    "\n",
    "# _ = Fetch_miRNA_Target(ID)\n",
    "\n",
    "# df, df_3, df_5, Mat = Fetch_miRNA_Target('hsa-miR-1275')\n",
    "\n",
    "# df, df_3, df_5, Mat = Fetch_miRNA_Target('hsa-miR-1275')"
   ]
  },
  {
   "cell_type": "code",
   "execution_count": 5,
   "id": "101b6c82-7777-4681-aa08-9b987eebf0cc",
   "metadata": {},
   "outputs": [],
   "source": [
    "Dic = defaultdict(list)\n",
    "\n",
    "def To_dic(df):\n",
    "    LOL = df[['Target Score', 'miRNA Name', 'Gene Symbol']].values\n",
    "    for S,M,G  in LOL:\n",
    "        Dic[G].append((M,S))\n",
    "    return Dic"
   ]
  },
  {
   "cell_type": "code",
   "execution_count": 6,
   "id": "c4281997-7e4d-4044-9085-c83a5953d0ed",
   "metadata": {},
   "outputs": [],
   "source": [
    "def main(ID):\n",
    "    print(ID)\n",
    "    try:\n",
    "        Data = Fetch_miRNA_Target(ID)\n",
    "        if len(Data) == 4:\n",
    "            df, df_3, df_5, Mat = Data\n",
    "            if len(df):\n",
    "                Info_F = f\"{directory}{Mat['ID']}_info.csv\"\n",
    "                df.to_csv(Info_F, index=True, header=False)\n",
    "\n",
    "                p3_F = f\"{directory}{Mat['ID']}_3p_{Mat['3p']}_targets.tsv\"\n",
    "                df_3.to_csv(p3_F, index=False, sep=\"\\t\")\n",
    "                To_dic(df_3)\n",
    "\n",
    "\n",
    "                p5_F = f\"{directory}{Mat['ID']}_5p_{Mat['5p']}_targets.tsv\"\n",
    "                df_5.to_csv(p5_F, index=False, sep=\"\\t\")\n",
    "                To_dic(df_5)\n",
    "                \n",
    "            else:\n",
    "                print(f\"{ID} Error\")\n",
    "                \n",
    "        if len(Data) == 3:\n",
    "            df, df_M, Mat = Data\n",
    "            Key = [i for i in Mat if i != 'ID'][0]\n",
    "            MirID = Mat[Key]\n",
    "            if len(df):\n",
    "                Info_F = f\"{directory}{Mat['ID']}_info.csv\"\n",
    "                df.to_csv(Info_F, index=True, header=False)\n",
    "\n",
    "                pm_F = f\"{directory}{Mat['ID']}_{MirID}_targets.tsv\"\n",
    "                df_M.to_csv(pm_F, index=False, sep=\"\\t\")\n",
    "                To_dic(df_M)\n",
    "\n",
    "            else:\n",
    "                print(f\"{ID} Error\")\n",
    "                \n",
    "    except Exception as e: # work on python 2.x\n",
    "        print(e)\n",
    "    # except:\n",
    "    #     print(f\"Error {ID}\")\n",
    "    \n",
    "# main('hsa-miR-1275')"
   ]
  },
  {
   "cell_type": "code",
   "execution_count": 7,
   "id": "b0833798-6326-4d2d-92c8-7e93639aa504",
   "metadata": {},
   "outputs": [],
   "source": [
    "# df, df_3, df_5, Mat = Fetch_miRNA_Target('hsa-let-7a-3')\n",
    "# list(df.index.tolist())"
   ]
  },
  {
   "cell_type": "code",
   "execution_count": 8,
   "id": "839c44f6-fbf9-4ade-8ca3-12f88b3d042c",
   "metadata": {},
   "outputs": [],
   "source": [
    "# df, df_m, Mat = Fetch_miRNA_Target('hsa-miR-1275')"
   ]
  },
  {
   "cell_type": "code",
   "execution_count": 9,
   "id": "b9bfbe47-f198-4967-952e-857e0179450a",
   "metadata": {},
   "outputs": [
    {
     "name": "stderr",
     "output_type": "stream",
     "text": [
      "  0%|                                                     | 0/5 [00:00<?, ?it/s]"
     ]
    },
    {
     "name": "stdout",
     "output_type": "stream",
     "text": [
      "hsa-let-7a-2\n"
     ]
    },
    {
     "name": "stderr",
     "output_type": "stream",
     "text": [
      " 20%|█████████                                    | 1/5 [00:03<00:14,  3.54s/it]"
     ]
    },
    {
     "name": "stdout",
     "output_type": "stream",
     "text": [
      "hsa-let-7b\n"
     ]
    },
    {
     "name": "stderr",
     "output_type": "stream",
     "text": [
      " 40%|██████████████████                           | 2/5 [00:05<00:08,  2.82s/it]"
     ]
    },
    {
     "name": "stdout",
     "output_type": "stream",
     "text": [
      "hsa-let-7a-1\n"
     ]
    },
    {
     "name": "stderr",
     "output_type": "stream",
     "text": [
      " 60%|███████████████████████████                  | 3/5 [00:08<00:05,  2.61s/it]"
     ]
    },
    {
     "name": "stdout",
     "output_type": "stream",
     "text": [
      "hsa-let-7a-3\n"
     ]
    },
    {
     "name": "stderr",
     "output_type": "stream",
     "text": [
      " 80%|████████████████████████████████████         | 4/5 [00:10<00:02,  2.52s/it]"
     ]
    },
    {
     "name": "stdout",
     "output_type": "stream",
     "text": [
      "hsa-miR-1275\n"
     ]
    },
    {
     "name": "stderr",
     "output_type": "stream",
     "text": [
      "100%|█████████████████████████████████████████████| 5/5 [00:12<00:00,  2.40s/it]\n"
     ]
    }
   ],
   "source": [
    "for i in tqdm(range(len(IDs))):\n",
    "    ID = IDs[i]\n",
    "    main(ID)   "
   ]
  },
  {
   "cell_type": "code",
   "execution_count": 10,
   "id": "ee2b2b2e-948d-450b-adff-ce97dc1a9118",
   "metadata": {},
   "outputs": [
    {
     "name": "stdout",
     "output_type": "stream",
     "text": [
      "hsa-let-7a-1_3p_MIMAT0004481_targets.tsv\n",
      "hsa-let-7a-1_5p_MIMAT0000062_targets.tsv\n",
      "hsa-let-7a-1_info.csv\n",
      "hsa-let-7a-2_3p_MIMAT0010195_targets.tsv\n",
      "hsa-let-7a-2_5p_MIMAT0000062_targets.tsv\n",
      "hsa-let-7a-2_info.csv\n",
      "hsa-let-7a-3_3p_MIMAT0004481_targets.tsv\n",
      "hsa-let-7a-3_5p_MIMAT0000062_targets.tsv\n",
      "hsa-let-7a-3_info.csv\n",
      "hsa-let-7b_3p_MIMAT0004482_targets.tsv\n",
      "hsa-let-7b_5p_MIMAT0000063_targets.tsv\n",
      "hsa-let-7b_info.csv\n",
      "hsa-mir-1275_info.csv\n",
      "hsa-mir-1275_MIMAT0005929_targets.tsv\n"
     ]
    }
   ],
   "source": [
    "!ls {directory}"
   ]
  },
  {
   "cell_type": "code",
   "execution_count": 13,
   "id": "82480c55-fc6d-42fa-916d-d3b54e1178e2",
   "metadata": {},
   "outputs": [],
   "source": [
    "import json\n",
    "\n",
    "with open(\"miRNA_map.json\", \"w\") as outfile:\n",
    "    json.dump(Dic, outfile)"
   ]
  },
  {
   "cell_type": "code",
   "execution_count": 14,
   "id": "bbbe59b4-3e3b-4e29-b649-412a6491dfc5",
   "metadata": {},
   "outputs": [
    {
     "name": "stdout",
     "output_type": "stream",
     "text": [
      "4246\n"
     ]
    }
   ],
   "source": [
    "print(len(Dic))"
   ]
  },
  {
   "cell_type": "code",
   "execution_count": 15,
   "id": "3cd43c79-8c34-41ca-9b09-3349ca2ea05a",
   "metadata": {},
   "outputs": [
    {
     "data": {
      "text/plain": [
       "[('hsa-let-7a-2-3p', '80'),\n",
       " ('hsa-let-7b-3p', '100'),\n",
       " ('hsa-let-7a-3p', '100'),\n",
       " ('hsa-let-7a-3p', '100')]"
      ]
     },
     "execution_count": 15,
     "metadata": {},
     "output_type": "execute_result"
    }
   ],
   "source": [
    "Dic['ARID4B']"
   ]
  },
  {
   "cell_type": "code",
   "execution_count": null,
   "id": "7cb35c50-94cb-4ac3-9fb0-ab66180a6e63",
   "metadata": {},
   "outputs": [],
   "source": [
    "## Network"
   ]
  },
  {
   "cell_type": "code",
   "execution_count": 21,
   "id": "60f22f89-5c83-4a1c-85fb-a5ca5fd4fd51",
   "metadata": {},
   "outputs": [],
   "source": [
    "fh = open('miRNA_Target_network.csv', 'w')\n",
    "print(\"Symbol\", 'miRNA', 'Score', sep = \",\", file=fh)\n",
    "\n",
    "\n",
    "for Gene in Dic:\n",
    "    for MI,S in Dic[Gene]:\n",
    "        # print(Gene, MI, S)\n",
    "        print(Gene, MI, S, sep = \",\", file=fh)\n",
    "fh.close()"
   ]
  },
  {
   "cell_type": "markdown",
   "id": "f97b3d29-e1ee-42ee-8a0d-e052a6daff67",
   "metadata": {},
   "source": [
    "# END"
   ]
  }
 ],
 "metadata": {
  "kernelspec": {
   "display_name": "Python 3 (ipykernel)",
   "language": "python",
   "name": "python3"
  },
  "language_info": {
   "codemirror_mode": {
    "name": "ipython",
    "version": 3
   },
   "file_extension": ".py",
   "mimetype": "text/x-python",
   "name": "python",
   "nbconvert_exporter": "python",
   "pygments_lexer": "ipython3",
   "version": "3.10.9"
  }
 },
 "nbformat": 4,
 "nbformat_minor": 5
}
